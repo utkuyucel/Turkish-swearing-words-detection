{
  "nbformat": 4,
  "nbformat_minor": 0,
  "metadata": {
    "colab": {
      "name": "Discord DD - Küfür Bot",
      "provenance": [],
      "collapsed_sections": [],
      "machine_shape": "hm",
      "include_colab_link": true
    },
    "kernelspec": {
      "name": "python3",
      "display_name": "Python 3"
    },
    "accelerator": "GPU"
  },
  "cells": [
    {
      "cell_type": "markdown",
      "metadata": {
        "id": "view-in-github",
        "colab_type": "text"
      },
      "source": [
        "<a href=\"https://colab.research.google.com/github/utkuyucel/Dj/blob/main/Discord_DD_K%C3%BCf%C3%BCr_Bot.ipynb\" target=\"_parent\"><img src=\"https://colab.research.google.com/assets/colab-badge.svg\" alt=\"Open In Colab\"/></a>"
      ]
    },
    {
      "cell_type": "code",
      "metadata": {
        "id": "wAyqdA3bqI5s"
      },
      "source": [
        "import pandas as pd\n",
        "import numpy as np\n",
        "import matplotlib.pyplot as plt\n",
        "import seaborn as sns\n",
        "from sklearn.model_selection import train_test_split\n",
        "from keras.models import Sequential, Model, load_model\n",
        "from keras.layers import LSTM, Activation, Dense, Dropout, Embedding, Conv1D, GlobalMaxPooling1D, Bidirectional\n",
        "from keras.preprocessing.text import Tokenizer\n",
        "from keras.preprocessing import sequence"
      ],
      "execution_count": 1,
      "outputs": []
    },
    {
      "cell_type": "code",
      "metadata": {
        "id": "vn7m0bs5fXNv",
        "colab": {
          "base_uri": "https://localhost:8080/",
          "height": 206
        },
        "outputId": "85605b66-4060-4215-a71b-9bb82faed34c"
      },
      "source": [
        "df = pd.read_csv(\"bully.csv\")\n",
        "df.head()"
      ],
      "execution_count": null,
      "outputs": [
        {
          "output_type": "execute_result",
          "data": {
            "text/plain": [
              "                                             message  cyberbullying\n",
              "0  rabbim kalan ömrünü geçen ömründen hayırlı eyl...              0\n",
              "1  bir ateist olarak bu resmi gördükçe gözyaşları...              0\n",
              "2                 oo süpersin azıcık bize de bulaşsa              0\n",
              "3              bende biliyorum benden bı bok olmicak              1\n",
              "4                                nerdesin len tirrek              1"
            ],
            "text/html": [
              "\n",
              "  <div id=\"df-e11fcb3a-ec64-4348-9bbd-ae721fe8fa03\">\n",
              "    <div class=\"colab-df-container\">\n",
              "      <div>\n",
              "<style scoped>\n",
              "    .dataframe tbody tr th:only-of-type {\n",
              "        vertical-align: middle;\n",
              "    }\n",
              "\n",
              "    .dataframe tbody tr th {\n",
              "        vertical-align: top;\n",
              "    }\n",
              "\n",
              "    .dataframe thead th {\n",
              "        text-align: right;\n",
              "    }\n",
              "</style>\n",
              "<table border=\"1\" class=\"dataframe\">\n",
              "  <thead>\n",
              "    <tr style=\"text-align: right;\">\n",
              "      <th></th>\n",
              "      <th>message</th>\n",
              "      <th>cyberbullying</th>\n",
              "    </tr>\n",
              "  </thead>\n",
              "  <tbody>\n",
              "    <tr>\n",
              "      <th>0</th>\n",
              "      <td>rabbim kalan ömrünü geçen ömründen hayırlı eyl...</td>\n",
              "      <td>0</td>\n",
              "    </tr>\n",
              "    <tr>\n",
              "      <th>1</th>\n",
              "      <td>bir ateist olarak bu resmi gördükçe gözyaşları...</td>\n",
              "      <td>0</td>\n",
              "    </tr>\n",
              "    <tr>\n",
              "      <th>2</th>\n",
              "      <td>oo süpersin azıcık bize de bulaşsa</td>\n",
              "      <td>0</td>\n",
              "    </tr>\n",
              "    <tr>\n",
              "      <th>3</th>\n",
              "      <td>bende biliyorum benden bı bok olmicak</td>\n",
              "      <td>1</td>\n",
              "    </tr>\n",
              "    <tr>\n",
              "      <th>4</th>\n",
              "      <td>nerdesin len tirrek</td>\n",
              "      <td>1</td>\n",
              "    </tr>\n",
              "  </tbody>\n",
              "</table>\n",
              "</div>\n",
              "      <button class=\"colab-df-convert\" onclick=\"convertToInteractive('df-e11fcb3a-ec64-4348-9bbd-ae721fe8fa03')\"\n",
              "              title=\"Convert this dataframe to an interactive table.\"\n",
              "              style=\"display:none;\">\n",
              "        \n",
              "  <svg xmlns=\"http://www.w3.org/2000/svg\" height=\"24px\"viewBox=\"0 0 24 24\"\n",
              "       width=\"24px\">\n",
              "    <path d=\"M0 0h24v24H0V0z\" fill=\"none\"/>\n",
              "    <path d=\"M18.56 5.44l.94 2.06.94-2.06 2.06-.94-2.06-.94-.94-2.06-.94 2.06-2.06.94zm-11 1L8.5 8.5l.94-2.06 2.06-.94-2.06-.94L8.5 2.5l-.94 2.06-2.06.94zm10 10l.94 2.06.94-2.06 2.06-.94-2.06-.94-.94-2.06-.94 2.06-2.06.94z\"/><path d=\"M17.41 7.96l-1.37-1.37c-.4-.4-.92-.59-1.43-.59-.52 0-1.04.2-1.43.59L10.3 9.45l-7.72 7.72c-.78.78-.78 2.05 0 2.83L4 21.41c.39.39.9.59 1.41.59.51 0 1.02-.2 1.41-.59l7.78-7.78 2.81-2.81c.8-.78.8-2.07 0-2.86zM5.41 20L4 18.59l7.72-7.72 1.47 1.35L5.41 20z\"/>\n",
              "  </svg>\n",
              "      </button>\n",
              "      \n",
              "  <style>\n",
              "    .colab-df-container {\n",
              "      display:flex;\n",
              "      flex-wrap:wrap;\n",
              "      gap: 12px;\n",
              "    }\n",
              "\n",
              "    .colab-df-convert {\n",
              "      background-color: #E8F0FE;\n",
              "      border: none;\n",
              "      border-radius: 50%;\n",
              "      cursor: pointer;\n",
              "      display: none;\n",
              "      fill: #1967D2;\n",
              "      height: 32px;\n",
              "      padding: 0 0 0 0;\n",
              "      width: 32px;\n",
              "    }\n",
              "\n",
              "    .colab-df-convert:hover {\n",
              "      background-color: #E2EBFA;\n",
              "      box-shadow: 0px 1px 2px rgba(60, 64, 67, 0.3), 0px 1px 3px 1px rgba(60, 64, 67, 0.15);\n",
              "      fill: #174EA6;\n",
              "    }\n",
              "\n",
              "    [theme=dark] .colab-df-convert {\n",
              "      background-color: #3B4455;\n",
              "      fill: #D2E3FC;\n",
              "    }\n",
              "\n",
              "    [theme=dark] .colab-df-convert:hover {\n",
              "      background-color: #434B5C;\n",
              "      box-shadow: 0px 1px 3px 1px rgba(0, 0, 0, 0.15);\n",
              "      filter: drop-shadow(0px 1px 2px rgba(0, 0, 0, 0.3));\n",
              "      fill: #FFFFFF;\n",
              "    }\n",
              "  </style>\n",
              "\n",
              "      <script>\n",
              "        const buttonEl =\n",
              "          document.querySelector('#df-e11fcb3a-ec64-4348-9bbd-ae721fe8fa03 button.colab-df-convert');\n",
              "        buttonEl.style.display =\n",
              "          google.colab.kernel.accessAllowed ? 'block' : 'none';\n",
              "\n",
              "        async function convertToInteractive(key) {\n",
              "          const element = document.querySelector('#df-e11fcb3a-ec64-4348-9bbd-ae721fe8fa03');\n",
              "          const dataTable =\n",
              "            await google.colab.kernel.invokeFunction('convertToInteractive',\n",
              "                                                     [key], {});\n",
              "          if (!dataTable) return;\n",
              "\n",
              "          const docLinkHtml = 'Like what you see? Visit the ' +\n",
              "            '<a target=\"_blank\" href=https://colab.research.google.com/notebooks/data_table.ipynb>data table notebook</a>'\n",
              "            + ' to learn more about interactive tables.';\n",
              "          element.innerHTML = '';\n",
              "          dataTable['output_type'] = 'display_data';\n",
              "          await google.colab.output.renderOutput(dataTable, element);\n",
              "          const docLink = document.createElement('div');\n",
              "          docLink.innerHTML = docLinkHtml;\n",
              "          element.appendChild(docLink);\n",
              "        }\n",
              "      </script>\n",
              "    </div>\n",
              "  </div>\n",
              "  "
            ]
          },
          "metadata": {},
          "execution_count": 33
        }
      ]
    },
    {
      "cell_type": "code",
      "source": [
        "df2 = pd.read_csv(\"kufur.csv\", usecols = [\"text\", \"label\"])\n",
        "df2 = df2.rename(columns = {\"text\":\"message\", \"label\":\"cyberbullying\"})\n",
        "df2.head()"
      ],
      "metadata": {
        "colab": {
          "base_uri": "https://localhost:8080/",
          "height": 206
        },
        "id": "bz2HCHm4a18x",
        "outputId": "8271fe0b-81ea-4a8c-ea74-6424ff166ffb"
      },
      "execution_count": null,
      "outputs": [
        {
          "output_type": "execute_result",
          "data": {
            "text/plain": [
              "                                             message  cyberbullying\n",
              "0  @USER06095 Hırsız demişken Tuncay sizin şu 1.2...              1\n",
              "1  Ne bileyim sen hastayım deyince bende veterine...              0\n",
              "2  Akşam eve gittiğimizde yorgunluğuma iyi gelece...              1\n",
              "3  Kook’un sesini 18381 kez dinledikten sonra eğe...              0\n",
              "4  @USER05270 @USER04816 o macta adam 6 7 tane ne...              1"
            ],
            "text/html": [
              "\n",
              "  <div id=\"df-46dd682c-87d7-4b14-aa23-05fb3dba692a\">\n",
              "    <div class=\"colab-df-container\">\n",
              "      <div>\n",
              "<style scoped>\n",
              "    .dataframe tbody tr th:only-of-type {\n",
              "        vertical-align: middle;\n",
              "    }\n",
              "\n",
              "    .dataframe tbody tr th {\n",
              "        vertical-align: top;\n",
              "    }\n",
              "\n",
              "    .dataframe thead th {\n",
              "        text-align: right;\n",
              "    }\n",
              "</style>\n",
              "<table border=\"1\" class=\"dataframe\">\n",
              "  <thead>\n",
              "    <tr style=\"text-align: right;\">\n",
              "      <th></th>\n",
              "      <th>message</th>\n",
              "      <th>cyberbullying</th>\n",
              "    </tr>\n",
              "  </thead>\n",
              "  <tbody>\n",
              "    <tr>\n",
              "      <th>0</th>\n",
              "      <td>@USER06095 Hırsız demişken Tuncay sizin şu 1.2...</td>\n",
              "      <td>1</td>\n",
              "    </tr>\n",
              "    <tr>\n",
              "      <th>1</th>\n",
              "      <td>Ne bileyim sen hastayım deyince bende veterine...</td>\n",
              "      <td>0</td>\n",
              "    </tr>\n",
              "    <tr>\n",
              "      <th>2</th>\n",
              "      <td>Akşam eve gittiğimizde yorgunluğuma iyi gelece...</td>\n",
              "      <td>1</td>\n",
              "    </tr>\n",
              "    <tr>\n",
              "      <th>3</th>\n",
              "      <td>Kook’un sesini 18381 kez dinledikten sonra eğe...</td>\n",
              "      <td>0</td>\n",
              "    </tr>\n",
              "    <tr>\n",
              "      <th>4</th>\n",
              "      <td>@USER05270 @USER04816 o macta adam 6 7 tane ne...</td>\n",
              "      <td>1</td>\n",
              "    </tr>\n",
              "  </tbody>\n",
              "</table>\n",
              "</div>\n",
              "      <button class=\"colab-df-convert\" onclick=\"convertToInteractive('df-46dd682c-87d7-4b14-aa23-05fb3dba692a')\"\n",
              "              title=\"Convert this dataframe to an interactive table.\"\n",
              "              style=\"display:none;\">\n",
              "        \n",
              "  <svg xmlns=\"http://www.w3.org/2000/svg\" height=\"24px\"viewBox=\"0 0 24 24\"\n",
              "       width=\"24px\">\n",
              "    <path d=\"M0 0h24v24H0V0z\" fill=\"none\"/>\n",
              "    <path d=\"M18.56 5.44l.94 2.06.94-2.06 2.06-.94-2.06-.94-.94-2.06-.94 2.06-2.06.94zm-11 1L8.5 8.5l.94-2.06 2.06-.94-2.06-.94L8.5 2.5l-.94 2.06-2.06.94zm10 10l.94 2.06.94-2.06 2.06-.94-2.06-.94-.94-2.06-.94 2.06-2.06.94z\"/><path d=\"M17.41 7.96l-1.37-1.37c-.4-.4-.92-.59-1.43-.59-.52 0-1.04.2-1.43.59L10.3 9.45l-7.72 7.72c-.78.78-.78 2.05 0 2.83L4 21.41c.39.39.9.59 1.41.59.51 0 1.02-.2 1.41-.59l7.78-7.78 2.81-2.81c.8-.78.8-2.07 0-2.86zM5.41 20L4 18.59l7.72-7.72 1.47 1.35L5.41 20z\"/>\n",
              "  </svg>\n",
              "      </button>\n",
              "      \n",
              "  <style>\n",
              "    .colab-df-container {\n",
              "      display:flex;\n",
              "      flex-wrap:wrap;\n",
              "      gap: 12px;\n",
              "    }\n",
              "\n",
              "    .colab-df-convert {\n",
              "      background-color: #E8F0FE;\n",
              "      border: none;\n",
              "      border-radius: 50%;\n",
              "      cursor: pointer;\n",
              "      display: none;\n",
              "      fill: #1967D2;\n",
              "      height: 32px;\n",
              "      padding: 0 0 0 0;\n",
              "      width: 32px;\n",
              "    }\n",
              "\n",
              "    .colab-df-convert:hover {\n",
              "      background-color: #E2EBFA;\n",
              "      box-shadow: 0px 1px 2px rgba(60, 64, 67, 0.3), 0px 1px 3px 1px rgba(60, 64, 67, 0.15);\n",
              "      fill: #174EA6;\n",
              "    }\n",
              "\n",
              "    [theme=dark] .colab-df-convert {\n",
              "      background-color: #3B4455;\n",
              "      fill: #D2E3FC;\n",
              "    }\n",
              "\n",
              "    [theme=dark] .colab-df-convert:hover {\n",
              "      background-color: #434B5C;\n",
              "      box-shadow: 0px 1px 3px 1px rgba(0, 0, 0, 0.15);\n",
              "      filter: drop-shadow(0px 1px 2px rgba(0, 0, 0, 0.3));\n",
              "      fill: #FFFFFF;\n",
              "    }\n",
              "  </style>\n",
              "\n",
              "      <script>\n",
              "        const buttonEl =\n",
              "          document.querySelector('#df-46dd682c-87d7-4b14-aa23-05fb3dba692a button.colab-df-convert');\n",
              "        buttonEl.style.display =\n",
              "          google.colab.kernel.accessAllowed ? 'block' : 'none';\n",
              "\n",
              "        async function convertToInteractive(key) {\n",
              "          const element = document.querySelector('#df-46dd682c-87d7-4b14-aa23-05fb3dba692a');\n",
              "          const dataTable =\n",
              "            await google.colab.kernel.invokeFunction('convertToInteractive',\n",
              "                                                     [key], {});\n",
              "          if (!dataTable) return;\n",
              "\n",
              "          const docLinkHtml = 'Like what you see? Visit the ' +\n",
              "            '<a target=\"_blank\" href=https://colab.research.google.com/notebooks/data_table.ipynb>data table notebook</a>'\n",
              "            + ' to learn more about interactive tables.';\n",
              "          element.innerHTML = '';\n",
              "          dataTable['output_type'] = 'display_data';\n",
              "          await google.colab.output.renderOutput(dataTable, element);\n",
              "          const docLink = document.createElement('div');\n",
              "          docLink.innerHTML = docLinkHtml;\n",
              "          element.appendChild(docLink);\n",
              "        }\n",
              "      </script>\n",
              "    </div>\n",
              "  </div>\n",
              "  "
            ]
          },
          "metadata": {},
          "execution_count": 34
        }
      ]
    },
    {
      "cell_type": "code",
      "source": [
        "df = pd.concat([df, df2])\n",
        "df.head()"
      ],
      "metadata": {
        "colab": {
          "base_uri": "https://localhost:8080/",
          "height": 206
        },
        "id": "IGl-m66Na1-b",
        "outputId": "a4c3fab0-d097-4ada-d577-7894cb8a3263"
      },
      "execution_count": null,
      "outputs": [
        {
          "output_type": "execute_result",
          "data": {
            "text/plain": [
              "                                             message  cyberbullying\n",
              "0  rabbim kalan ömrünü geçen ömründen hayırlı eyl...              0\n",
              "1  bir ateist olarak bu resmi gördükçe gözyaşları...              0\n",
              "2                 oo süpersin azıcık bize de bulaşsa              0\n",
              "3              bende biliyorum benden bı bok olmicak              1\n",
              "4                                nerdesin len tirrek              1"
            ],
            "text/html": [
              "\n",
              "  <div id=\"df-e416fa3e-f636-4a1d-a33a-761346b059d3\">\n",
              "    <div class=\"colab-df-container\">\n",
              "      <div>\n",
              "<style scoped>\n",
              "    .dataframe tbody tr th:only-of-type {\n",
              "        vertical-align: middle;\n",
              "    }\n",
              "\n",
              "    .dataframe tbody tr th {\n",
              "        vertical-align: top;\n",
              "    }\n",
              "\n",
              "    .dataframe thead th {\n",
              "        text-align: right;\n",
              "    }\n",
              "</style>\n",
              "<table border=\"1\" class=\"dataframe\">\n",
              "  <thead>\n",
              "    <tr style=\"text-align: right;\">\n",
              "      <th></th>\n",
              "      <th>message</th>\n",
              "      <th>cyberbullying</th>\n",
              "    </tr>\n",
              "  </thead>\n",
              "  <tbody>\n",
              "    <tr>\n",
              "      <th>0</th>\n",
              "      <td>rabbim kalan ömrünü geçen ömründen hayırlı eyl...</td>\n",
              "      <td>0</td>\n",
              "    </tr>\n",
              "    <tr>\n",
              "      <th>1</th>\n",
              "      <td>bir ateist olarak bu resmi gördükçe gözyaşları...</td>\n",
              "      <td>0</td>\n",
              "    </tr>\n",
              "    <tr>\n",
              "      <th>2</th>\n",
              "      <td>oo süpersin azıcık bize de bulaşsa</td>\n",
              "      <td>0</td>\n",
              "    </tr>\n",
              "    <tr>\n",
              "      <th>3</th>\n",
              "      <td>bende biliyorum benden bı bok olmicak</td>\n",
              "      <td>1</td>\n",
              "    </tr>\n",
              "    <tr>\n",
              "      <th>4</th>\n",
              "      <td>nerdesin len tirrek</td>\n",
              "      <td>1</td>\n",
              "    </tr>\n",
              "  </tbody>\n",
              "</table>\n",
              "</div>\n",
              "      <button class=\"colab-df-convert\" onclick=\"convertToInteractive('df-e416fa3e-f636-4a1d-a33a-761346b059d3')\"\n",
              "              title=\"Convert this dataframe to an interactive table.\"\n",
              "              style=\"display:none;\">\n",
              "        \n",
              "  <svg xmlns=\"http://www.w3.org/2000/svg\" height=\"24px\"viewBox=\"0 0 24 24\"\n",
              "       width=\"24px\">\n",
              "    <path d=\"M0 0h24v24H0V0z\" fill=\"none\"/>\n",
              "    <path d=\"M18.56 5.44l.94 2.06.94-2.06 2.06-.94-2.06-.94-.94-2.06-.94 2.06-2.06.94zm-11 1L8.5 8.5l.94-2.06 2.06-.94-2.06-.94L8.5 2.5l-.94 2.06-2.06.94zm10 10l.94 2.06.94-2.06 2.06-.94-2.06-.94-.94-2.06-.94 2.06-2.06.94z\"/><path d=\"M17.41 7.96l-1.37-1.37c-.4-.4-.92-.59-1.43-.59-.52 0-1.04.2-1.43.59L10.3 9.45l-7.72 7.72c-.78.78-.78 2.05 0 2.83L4 21.41c.39.39.9.59 1.41.59.51 0 1.02-.2 1.41-.59l7.78-7.78 2.81-2.81c.8-.78.8-2.07 0-2.86zM5.41 20L4 18.59l7.72-7.72 1.47 1.35L5.41 20z\"/>\n",
              "  </svg>\n",
              "      </button>\n",
              "      \n",
              "  <style>\n",
              "    .colab-df-container {\n",
              "      display:flex;\n",
              "      flex-wrap:wrap;\n",
              "      gap: 12px;\n",
              "    }\n",
              "\n",
              "    .colab-df-convert {\n",
              "      background-color: #E8F0FE;\n",
              "      border: none;\n",
              "      border-radius: 50%;\n",
              "      cursor: pointer;\n",
              "      display: none;\n",
              "      fill: #1967D2;\n",
              "      height: 32px;\n",
              "      padding: 0 0 0 0;\n",
              "      width: 32px;\n",
              "    }\n",
              "\n",
              "    .colab-df-convert:hover {\n",
              "      background-color: #E2EBFA;\n",
              "      box-shadow: 0px 1px 2px rgba(60, 64, 67, 0.3), 0px 1px 3px 1px rgba(60, 64, 67, 0.15);\n",
              "      fill: #174EA6;\n",
              "    }\n",
              "\n",
              "    [theme=dark] .colab-df-convert {\n",
              "      background-color: #3B4455;\n",
              "      fill: #D2E3FC;\n",
              "    }\n",
              "\n",
              "    [theme=dark] .colab-df-convert:hover {\n",
              "      background-color: #434B5C;\n",
              "      box-shadow: 0px 1px 3px 1px rgba(0, 0, 0, 0.15);\n",
              "      filter: drop-shadow(0px 1px 2px rgba(0, 0, 0, 0.3));\n",
              "      fill: #FFFFFF;\n",
              "    }\n",
              "  </style>\n",
              "\n",
              "      <script>\n",
              "        const buttonEl =\n",
              "          document.querySelector('#df-e416fa3e-f636-4a1d-a33a-761346b059d3 button.colab-df-convert');\n",
              "        buttonEl.style.display =\n",
              "          google.colab.kernel.accessAllowed ? 'block' : 'none';\n",
              "\n",
              "        async function convertToInteractive(key) {\n",
              "          const element = document.querySelector('#df-e416fa3e-f636-4a1d-a33a-761346b059d3');\n",
              "          const dataTable =\n",
              "            await google.colab.kernel.invokeFunction('convertToInteractive',\n",
              "                                                     [key], {});\n",
              "          if (!dataTable) return;\n",
              "\n",
              "          const docLinkHtml = 'Like what you see? Visit the ' +\n",
              "            '<a target=\"_blank\" href=https://colab.research.google.com/notebooks/data_table.ipynb>data table notebook</a>'\n",
              "            + ' to learn more about interactive tables.';\n",
              "          element.innerHTML = '';\n",
              "          dataTable['output_type'] = 'display_data';\n",
              "          await google.colab.output.renderOutput(dataTable, element);\n",
              "          const docLink = document.createElement('div');\n",
              "          docLink.innerHTML = docLinkHtml;\n",
              "          element.appendChild(docLink);\n",
              "        }\n",
              "      </script>\n",
              "    </div>\n",
              "  </div>\n",
              "  "
            ]
          },
          "metadata": {},
          "execution_count": 35
        }
      ]
    },
    {
      "cell_type": "code",
      "metadata": {
        "id": "zABG_DE54GEB",
        "colab": {
          "base_uri": "https://localhost:8080/",
          "height": 351
        },
        "outputId": "e0248ba3-40c9-4425-cf32-ec2ab826916a"
      },
      "source": [
        "sns.countplot(df[\"cyberbullying\"])"
      ],
      "execution_count": null,
      "outputs": [
        {
          "output_type": "stream",
          "name": "stderr",
          "text": [
            "/usr/local/lib/python3.7/dist-packages/seaborn/_decorators.py:43: FutureWarning: Pass the following variable as a keyword arg: x. From version 0.12, the only valid positional argument will be `data`, and passing other arguments without an explicit keyword will result in an error or misinterpretation.\n",
            "  FutureWarning\n"
          ]
        },
        {
          "output_type": "execute_result",
          "data": {
            "text/plain": [
              "<matplotlib.axes._subplots.AxesSubplot at 0x7fcec7cc9ed0>"
            ]
          },
          "metadata": {},
          "execution_count": 36
        },
        {
          "output_type": "display_data",
          "data": {
            "text/plain": [
              "<Figure size 432x288 with 1 Axes>"
            ],
            "image/png": "[encoded data removed]"
          },
          "metadata": {
            "needs_background": "light"
          }
        }
      ]
    },
    {
      "cell_type": "code",
      "metadata": {
        "id": "9_bErjdBfhl8",
        "colab": {
          "base_uri": "https://localhost:8080/"
        },
        "outputId": "0c696c12-49ae-486c-de00-ec98f3fad537"
      },
      "source": [
        "df.info()"
      ],
      "execution_count": null,
      "outputs": [
        {
          "output_type": "stream",
          "name": "stdout",
          "text": [
            "<class 'pandas.core.frame.DataFrame'>\n",
            "Int64Index: 38285 entries, 0 to 35283\n",
            "Data columns (total 2 columns):\n",
            " #   Column         Non-Null Count  Dtype \n",
            "---  ------         --------------  ----- \n",
            " 0   message        38285 non-null  object\n",
            " 1   cyberbullying  38285 non-null  int64 \n",
            "dtypes: int64(1), object(1)\n",
            "memory usage: 1.9+ MB\n"
          ]
        }
      ]
    },
    {
      "cell_type": "code",
      "metadata": {
        "id": "M7Ev41YopBlk",
        "colab": {
          "base_uri": "https://localhost:8080/"
        },
        "outputId": "05368546-ad3b-453d-88fe-04a38f700320"
      },
      "source": [
        "den1 = (df[\"cyberbullying\"] == 0).sum()\n",
        "den2 = (df[\"cyberbullying\"] == 1).sum()\n",
        "\n",
        "den2/den1 #FINE"
      ],
      "execution_count": null,
      "outputs": [
        {
          "output_type": "execute_result",
          "data": {
            "text/plain": [
              "0.10423697037870266"
            ]
          },
          "metadata": {},
          "execution_count": 38
        }
      ]
    },
    {
      "cell_type": "code",
      "metadata": {
        "id": "oIRn07daHLm_"
      },
      "source": [
        "import string\n",
        "\n",
        "punc = string.punctuation"
      ],
      "execution_count": null,
      "outputs": []
    },
    {
      "cell_type": "code",
      "metadata": {
        "id": "BdharcA3G_45"
      },
      "source": [
        "def remove_punc(text):\n",
        "  x = \"\".join([i for i in text if i not in punc])\n",
        "  return x"
      ],
      "execution_count": null,
      "outputs": []
    },
    {
      "cell_type": "code",
      "metadata": {
        "id": "OqSgXMRXPi9o"
      },
      "source": [
        "X = df.message.astype(str)\n",
        "Y = df.cyberbullying"
      ],
      "execution_count": null,
      "outputs": []
    },
    {
      "cell_type": "code",
      "metadata": {
        "id": "aRBGsB2qH5nO"
      },
      "source": [
        "X = X.apply(remove_punc)"
      ],
      "execution_count": null,
      "outputs": []
    },
    {
      "cell_type": "code",
      "metadata": {
        "id": "Jzqu6tRYUJfZ",
        "colab": {
          "base_uri": "https://localhost:8080/"
        },
        "outputId": "d9c837c2-6a3f-4990-a54c-bca0adb82cc6"
      },
      "source": [
        "X[0]"
      ],
      "execution_count": null,
      "outputs": [
        {
          "output_type": "execute_result",
          "data": {
            "text/plain": [
              "0    rabbim kalan ömrünü geçen ömründen hayırlı eyl...\n",
              "0    USER06095 Hırsız demişken Tuncay sizin şu 1200...\n",
              "Name: message, dtype: object"
            ]
          },
          "metadata": {},
          "execution_count": 43
        }
      ]
    },
    {
      "cell_type": "code",
      "metadata": {
        "id": "1MF1ypjTaU48"
      },
      "source": [
        "X_train, X_test, Y_train, Y_test = train_test_split(X, Y, test_size = 0.01)"
      ],
      "execution_count": null,
      "outputs": []
    },
    {
      "cell_type": "code",
      "metadata": {
        "id": "EXVa92W-UEEs",
        "colab": {
          "base_uri": "https://localhost:8080/"
        },
        "outputId": "be445593-949b-4445-9d6e-a806058eb580"
      },
      "source": [
        "X_train"
      ],
      "execution_count": null,
      "outputs": [
        {
          "output_type": "execute_result",
          "data": {
            "text/plain": [
              "24066       USER07267 Baya açıklama yaptım ya çok saçmayım\n",
              "16731    USER10319 Eskiden bende yapıyordum yolculuğa ç...\n",
              "19164    3gün önce baktığım AnkaraKıbrıs bileti dün bak...\n",
              "30361    Acil Hasta ilik nakli oldu değerleri çok düşük...\n",
              "5821     USER08030 İzledim videolarını çok hareketli sü...\n",
              "                               ...                        \n",
              "27356    Küçükken bana ne olacaksın diye sorduklarında ...\n",
              "22533    Her şeyin güzel olacağına inandığınızda istese...\n",
              "526      USER02219 Annenin fotosunu at bakayim ona göre...\n",
              "5124     Evren dediysek bunu ve pek çok şeyi sağlayan i...\n",
              "16835    Söylenecek ve yazılacak çok şey var aslında gi...\n",
              "Name: message, Length: 37902, dtype: object"
            ]
          },
          "metadata": {},
          "execution_count": 45
        }
      ]
    },
    {
      "cell_type": "code",
      "metadata": {
        "id": "3jCa8c5facCw"
      },
      "source": [
        "max_words = 3000\n",
        "max_len = 300\n",
        "tokenizer = Tokenizer(num_words = max_words)\n",
        "\n",
        "tokenizer.fit_on_texts(X_train)\n",
        "\n",
        "sequences = tokenizer.texts_to_sequences(X_train)\n",
        "sequences_matrix = sequence.pad_sequences(sequences, maxlen = max_len)"
      ],
      "execution_count": null,
      "outputs": []
    },
    {
      "cell_type": "code",
      "metadata": {
        "id": "eWRTfKaIa6Xy",
        "colab": {
          "base_uri": "https://localhost:8080/"
        },
        "outputId": "34ad1334-8953-462e-8c3f-1cc1494800cd"
      },
      "source": [
        "model = Sequential()\n",
        "\n",
        "model.add(Embedding(max_words, 100, input_length= max_len))\n",
        "\n",
        "# model.add(Conv1D(128, 3, activation = \"relu\"))\n",
        "# model.add(Dropout(0.4))\n",
        "\n",
        "# model.add(Conv1D(256, 1, activation = \"relu\"))\n",
        "# model.add(Dropout(0.4))\n",
        "\n",
        "# model.add(GlobalMaxPooling1D())\n",
        "\n",
        "model.add(LSTM(100, return_sequences = True))\n",
        "model.add(Dropout(0.3))\n",
        "\n",
        "model.add(LSTM(100, return_sequences = True))\n",
        "model.add(Dropout(0.3))\n",
        "\n",
        "model.add(LSTM(100, return_sequences = False))\n",
        "model.add(Dropout(0.3))\n",
        "\n",
        "model.add(Dense(64, activation = \"relu\"))\n",
        "model.add(Dense(32, activation = \"relu\"))\n",
        "model.add(Dense(16, activation = \"relu\"))\n",
        "model.add(Dense(1, activation = \"sigmoid\"))\n",
        "\n",
        "model.compile(loss = \"binary_crossentropy\", optimizer = \"adam\", metrics = [\"acc\"])\n",
        "\n",
        "model.summary()"
      ],
      "execution_count": null,
      "outputs": [
        {
          "output_type": "stream",
          "name": "stdout",
          "text": [
            "Model: \"sequential\"\n",
            "_________________________________________________________________\n",
            " Layer (type)                Output Shape              Param #   \n",
            "=================================================================\n",
            " embedding (Embedding)       (None, 300, 100)          300000    \n",
            "                                                                 \n",
            " lstm (LSTM)                 (None, 300, 100)          80400     \n",
            "                                                                 \n",
            " dropout (Dropout)           (None, 300, 100)          0         \n",
            "                                                                 \n",
            " lstm_1 (LSTM)               (None, 300, 100)          80400     \n",
            "                                                                 \n",
            " dropout_1 (Dropout)         (None, 300, 100)          0         \n",
            "                                                                 \n",
            " lstm_2 (LSTM)               (None, 100)               80400     \n",
            "                                                                 \n",
            " dropout_2 (Dropout)         (None, 100)               0         \n",
            "                                                                 \n",
            " dense (Dense)               (None, 64)                6464      \n",
            "                                                                 \n",
            " dense_1 (Dense)             (None, 32)                2080      \n",
            "                                                                 \n",
            " dense_2 (Dense)             (None, 16)                528       \n",
            "                                                                 \n",
            " dense_3 (Dense)             (None, 1)                 17        \n",
            "                                                                 \n",
            "=================================================================\n",
            "Total params: 550,289\n",
            "Trainable params: 550,289\n",
            "Non-trainable params: 0\n",
            "_________________________________________________________________\n"
          ]
        }
      ]
    },
    {
      "cell_type": "code",
      "metadata": {
        "id": "PF5h2brIbuUS",
        "colab": {
          "base_uri": "https://localhost:8080/"
        },
        "outputId": "06f67916-34fa-4921-c9f7-0d0ec966bdb7"
      },
      "source": [
        "history = model.fit(sequences_matrix, Y_train, batch_size = 2048, epochs = 10)"
      ],
      "execution_count": null,
      "outputs": [
        {
          "output_type": "stream",
          "name": "stdout",
          "text": [
            "Epoch 1/10\n",
            "19/19 [==============================] - 36s 1s/step - loss: 0.4138 - acc: 0.8981\n",
            "Epoch 2/10\n",
            "19/19 [==============================] - 26s 1s/step - loss: 0.3159 - acc: 0.9053\n",
            "Epoch 3/10\n",
            "19/19 [==============================] - 26s 1s/step - loss: 0.3149 - acc: 0.9053\n",
            "Epoch 4/10\n",
            "19/19 [==============================] - 26s 1s/step - loss: 0.3149 - acc: 0.9053\n",
            "Epoch 5/10\n",
            "19/19 [==============================] - 26s 1s/step - loss: 0.3150 - acc: 0.9053\n",
            "Epoch 6/10\n",
            "19/19 [==============================] - 26s 1s/step - loss: 0.3140 - acc: 0.9053\n",
            "Epoch 7/10\n",
            "19/19 [==============================] - 26s 1s/step - loss: 0.3151 - acc: 0.9053\n",
            "Epoch 8/10\n",
            "19/19 [==============================] - 26s 1s/step - loss: 0.3146 - acc: 0.9053\n",
            "Epoch 9/10\n",
            "19/19 [==============================] - 26s 1s/step - loss: 0.3144 - acc: 0.9053\n",
            "Epoch 10/10\n",
            "19/19 [==============================] - 26s 1s/step - loss: 0.3142 - acc: 0.9053\n"
          ]
        }
      ]
    },
    {
      "cell_type": "code",
      "metadata": {
        "id": "jhDI7crb47Ye"
      },
      "source": [
        "model.save(\"model_equal.h5\")"
      ],
      "execution_count": null,
      "outputs": []
    },
    {
      "cell_type": "code",
      "metadata": {
        "id": "DwuzPUj0MB04",
        "colab": {
          "base_uri": "https://localhost:8080/",
          "height": 282
        },
        "outputId": "b1e0b2af-de6b-44ce-c242-e814764bf2bb"
      },
      "source": [
        "plt.plot(history.history[\"loss\"])"
      ],
      "execution_count": null,
      "outputs": [
        {
          "output_type": "execute_result",
          "data": {
            "text/plain": [
              "[<matplotlib.lines.Line2D at 0x7fc667120090>]"
            ]
          },
          "metadata": {},
          "execution_count": 53
        },
        {
          "output_type": "display_data",
          "data": {
            "text/plain": [
              "<Figure size 432x288 with 1 Axes>"
            ],
            "image/png": "[encoded data removed]"
          },
          "metadata": {
            "needs_background": "light"
          }
        }
      ]
    },
    {
      "cell_type": "code",
      "metadata": {
        "id": "N3kj_0yhcKdK"
      },
      "source": [
        "test_sequences = tokenizer.texts_to_sequences(X_test)\n",
        "test_sequences_matrix = sequence.pad_sequences(test_sequences, maxlen = max_len)"
      ],
      "execution_count": null,
      "outputs": []
    },
    {
      "cell_type": "code",
      "metadata": {
        "id": "f2TAywlucfDC",
        "colab": {
          "base_uri": "https://localhost:8080/"
        },
        "outputId": "283f7b9d-70e3-4c1a-8d91-819d0aec70a7"
      },
      "source": [
        "accr = model.evaluate(test_sequences_matrix, Y_test)\n",
        "print(\"Accuracy on test set\", accr[1])\n",
        "print(\"Loss on test set\", accr[0])"
      ],
      "execution_count": null,
      "outputs": [
        {
          "output_type": "stream",
          "name": "stdout",
          "text": [
            "23/23 [==============================] - 2s 32ms/step - loss: 0.2395 - acc: 0.9171\n",
            "Accuracy on test set 0.917119562625885\n",
            "Loss on test set 0.23954617977142334\n"
          ]
        }
      ]
    },
    {
      "cell_type": "code",
      "metadata": {
        "id": "mvssp_nEpkuL"
      },
      "source": [
        "def eval(test, text_based_review = True):\n",
        "\n",
        "  test2 = tokenizer.texts_to_sequences([test])\n",
        "  test2_sequences_matrix = sequence.pad_sequences(test2, maxlen = max_len)\n",
        "  \n",
        "  predictions = model.predict(test2_sequences_matrix)\n",
        "\n",
        "  if text_based_review == True:\n",
        "\n",
        "    if predictions < 0.20:\n",
        "      print(\"Küfür yok: \", predictions[0][0])\n",
        "    \n",
        "    else:\n",
        "      print(\"Küfür içeriyor: \", predictions[0][0])\n",
        "\n",
        "  else:\n",
        "    return predictions[0][0]"
      ],
      "execution_count": null,
      "outputs": []
    },
    {
      "cell_type": "code",
      "metadata": {
        "id": "oKp7v6Omd563",
        "colab": {
          "base_uri": "https://localhost:8080/"
        },
        "outputId": "3444bb82-ae6a-4ea6-a4ac-2d5846d88138"
      },
      "source": [
        "eval(\"ananızı sikeyim sizin\")"
      ],
      "execution_count": null,
      "outputs": [
        {
          "output_type": "stream",
          "name": "stdout",
          "text": [
            "Küfür içeriyor:  0.5105811\n"
          ]
        }
      ]
    },
    {
      "cell_type": "code",
      "metadata": {
        "id": "vFd8bYOop9fP",
        "colab": {
          "base_uri": "https://localhost:8080/"
        },
        "outputId": "ce074aa5-8261-4b74-dc0f-716b9c13863f"
      },
      "source": [
        "eval(\"orospu çocukları\")"
      ],
      "execution_count": null,
      "outputs": [
        {
          "output_type": "stream",
          "name": "stdout",
          "text": [
            "Küfür içeriyor:  0.65853256\n"
          ]
        }
      ]
    },
    {
      "cell_type": "code",
      "metadata": {
        "id": "SuP_3yIgqJQ2",
        "colab": {
          "base_uri": "https://localhost:8080/"
        },
        "outputId": "f9519eab-d7f6-4caa-a218-3963ec2e3999"
      },
      "source": [
        "eval(\"çok beğendim ancak teknik destek çok zayıf\")"
      ],
      "execution_count": null,
      "outputs": [
        {
          "output_type": "stream",
          "name": "stdout",
          "text": [
            "Küfür yok:  0.00046942243\n"
          ]
        }
      ]
    },
    {
      "cell_type": "code",
      "metadata": {
        "id": "-nWwWsX8qcOg",
        "colab": {
          "base_uri": "https://localhost:8080/"
        },
        "outputId": "b475ddc7-f8d3-4e6c-d875-022de9768039"
      },
      "source": [
        "eval(\"siktirin gidin\")"
      ],
      "execution_count": null,
      "outputs": [
        {
          "output_type": "stream",
          "name": "stdout",
          "text": [
            "Küfür içeriyor:  0.2691592\n"
          ]
        }
      ]
    },
    {
      "cell_type": "code",
      "metadata": {
        "id": "PipSj07-qfM1",
        "colab": {
          "base_uri": "https://localhost:8080/"
        },
        "outputId": "8a868850-fd09-4502-f2b0-346741c42c90"
      },
      "source": [
        "eval(\"kargoda kırıldı. bok gibi\")"
      ],
      "execution_count": null,
      "outputs": [
        {
          "output_type": "stream",
          "name": "stdout",
          "text": [
            "Küfür içeriyor:  0.24471454\n"
          ]
        }
      ]
    },
    {
      "cell_type": "code",
      "metadata": {
        "id": "NP3VeL9irOyn",
        "colab": {
          "base_uri": "https://localhost:8080/"
        },
        "outputId": "c7d19190-a6d3-42be-f733-3dd09d531fa1"
      },
      "source": [
        "eval(\"amın oğlu\")"
      ],
      "execution_count": null,
      "outputs": [
        {
          "output_type": "stream",
          "name": "stdout",
          "text": [
            "Küfür yok:  0.19045442\n"
          ]
        }
      ]
    },
    {
      "cell_type": "code",
      "metadata": {
        "id": "CZC4m-2-rSit",
        "colab": {
          "base_uri": "https://localhost:8080/"
        },
        "outputId": "f46e21e0-728d-44cd-8043-03a24136295b"
      },
      "source": [
        "eval(\"Ananın amına çivi çakayım\")"
      ],
      "execution_count": null,
      "outputs": [
        {
          "output_type": "stream",
          "name": "stdout",
          "text": [
            "Küfür içeriyor:  0.37321842\n"
          ]
        }
      ]
    },
    {
      "cell_type": "code",
      "source": [
        "eval(\"amk\")"
      ],
      "metadata": {
        "colab": {
          "base_uri": "https://localhost:8080/"
        },
        "id": "A_hgQsQ_Vfkv",
        "outputId": "a1006413-aab7-4167-bc77-513e82141e3f"
      },
      "execution_count": null,
      "outputs": [
        {
          "output_type": "stream",
          "name": "stdout",
          "text": [
            "Küfür içeriyor:  0.44443813\n"
          ]
        }
      ]
    },
    {
      "cell_type": "code",
      "source": [
        "eval(\"siktir\")"
      ],
      "metadata": {
        "colab": {
          "base_uri": "https://localhost:8080/"
        },
        "id": "DPTd8ayqVj6q",
        "outputId": "235e9792-efa7-46c2-9d88-56c9fc26b2fe"
      },
      "execution_count": null,
      "outputs": [
        {
          "output_type": "stream",
          "name": "stdout",
          "text": [
            "Küfür içeriyor:  0.6256311\n"
          ]
        }
      ]
    },
    {
      "cell_type": "code",
      "source": [
        "eval(\"Siktir et boşver kardeşim bu herifler böyledir başka bir anlam aramana gerek yok anasını satayım şu saçmalığa bak\")"
      ],
      "metadata": {
        "id": "DOywvyPZVlWQ",
        "colab": {
          "base_uri": "https://localhost:8080/"
        },
        "outputId": "f8a3d488-2be9-46cf-9e95-59d34e604218"
      },
      "execution_count": null,
      "outputs": [
        {
          "output_type": "stream",
          "name": "stdout",
          "text": [
            "Küfür yok:  0.1559345\n"
          ]
        }
      ]
    },
    {
      "cell_type": "code",
      "source": [
        "eval(\"Anasını satayım\")"
      ],
      "metadata": {
        "colab": {
          "base_uri": "https://localhost:8080/"
        },
        "id": "Ea970OT7ZeUM",
        "outputId": "7de77839-48b1-4a30-8e9a-0c6aeadf4394"
      },
      "execution_count": null,
      "outputs": [
        {
          "output_type": "stream",
          "name": "stdout",
          "text": [
            "Küfür içeriyor:  0.2072866\n"
          ]
        }
      ]
    },
    {
      "cell_type": "code",
      "source": [
        "eval(\"Selam abi, iyi yayınlar\")"
      ],
      "metadata": {
        "colab": {
          "base_uri": "https://localhost:8080/"
        },
        "id": "oH42A3uwZfZb",
        "outputId": "a5df38e9-f6ae-4f54-9a8d-e8420a79f145"
      },
      "execution_count": null,
      "outputs": [
        {
          "output_type": "stream",
          "name": "stdout",
          "text": [
            "Küfür yok:  0.021640968\n"
          ]
        }
      ]
    },
    {
      "cell_type": "code",
      "source": [
        "eval(\"Selam abi\")"
      ],
      "metadata": {
        "colab": {
          "base_uri": "https://localhost:8080/"
        },
        "id": "bT0IS61EZia-",
        "outputId": "f0bce298-0874-46c2-fec9-86a47a6f2148"
      },
      "execution_count": null,
      "outputs": [
        {
          "output_type": "stream",
          "name": "stdout",
          "text": [
            "Küfür yok:  0.04360203\n"
          ]
        }
      ]
    },
    {
      "cell_type": "code",
      "source": [
        "eval(\"Nasılsınız?\")"
      ],
      "metadata": {
        "colab": {
          "base_uri": "https://localhost:8080/"
        },
        "id": "yj_-_JX1ZlHb",
        "outputId": "32f6e377-e430-4986-a5a4-a56437ce323d"
      },
      "execution_count": null,
      "outputs": [
        {
          "output_type": "stream",
          "name": "stdout",
          "text": [
            "Küfür yok:  0.12438411\n"
          ]
        }
      ]
    },
    {
      "cell_type": "code",
      "source": [
        "eval(\"Selam\")"
      ],
      "metadata": {
        "colab": {
          "base_uri": "https://localhost:8080/"
        },
        "id": "LsyZ8uzzZocI",
        "outputId": "f19384ed-1401-43f4-9231-54123cc4b8e9"
      },
      "execution_count": null,
      "outputs": [
        {
          "output_type": "stream",
          "name": "stdout",
          "text": [
            "Küfür yok:  0.062975876\n"
          ]
        }
      ]
    },
    {
      "cell_type": "code",
      "source": [
        "eval(\"abi\")"
      ],
      "metadata": {
        "colab": {
          "base_uri": "https://localhost:8080/"
        },
        "id": "ZeyOX8iGaGXK",
        "outputId": "451c13dc-d0b6-43be-9f4b-518050def6b9"
      },
      "execution_count": null,
      "outputs": [
        {
          "output_type": "stream",
          "name": "stdout",
          "text": [
            "Küfür yok:  0.10999751\n"
          ]
        }
      ]
    },
    {
      "cell_type": "code",
      "source": [
        "eval(\"Arkadaşlar özür dileyerek bölüyorum ama küfür işini biraz azaltsak daha iyi olur mu acaba.\")"
      ],
      "metadata": {
        "colab": {
          "base_uri": "https://localhost:8080/"
        },
        "id": "Jpm8YtlMaHyk",
        "outputId": "f1686240-0337-46e8-851a-de646244d3e6"
      },
      "execution_count": null,
      "outputs": [
        {
          "output_type": "stream",
          "name": "stdout",
          "text": [
            "Küfür yok:  0.0010168789\n"
          ]
        }
      ]
    },
    {
      "cell_type": "code",
      "source": [
        "text = \"Sorunlu kişiler başkalarının emeklerini araştırmalarını bunlar neticesinde elde ettiklerini kendi bulmuş kendi yapmış gibi ya da bunları ifşalayarak büyük bir iş becermiş gibi davranan insanlar hep vardı hepte olacaktır. Bunlara fazla takmamak lazım. Hamama giren terler gibi bir şey bu. Ha günün sonunda ( 🤣) insan da şevk istek kalmıyor o da ayrı bir durum. Üzüldüm başına gelen bu durum için @DD-A\"\n",
        "eval(text)"
      ],
      "metadata": {
        "id": "MxZVyCv6aKbU",
        "colab": {
          "base_uri": "https://localhost:8080/"
        },
        "outputId": "1562f4bc-1044-4d29-e913-cf7176af6a86"
      },
      "execution_count": null,
      "outputs": [
        {
          "output_type": "stream",
          "name": "stdout",
          "text": [
            "Küfür yok:  0.023795862\n"
          ]
        }
      ]
    },
    {
      "cell_type": "code",
      "source": [
        "eval(\"amına kodumun piçi\")"
      ],
      "metadata": {
        "colab": {
          "base_uri": "https://localhost:8080/"
        },
        "id": "VBsiy7ghkb6o",
        "outputId": "0ee134a6-dd31-4d17-b4df-5f68faadf84e"
      },
      "execution_count": null,
      "outputs": [
        {
          "output_type": "stream",
          "name": "stdout",
          "text": [
            "Küfür içeriyor:  0.43906724\n"
          ]
        }
      ]
    },
    {
      "cell_type": "code",
      "source": [
        "eval(\"abi benim başıma gelmiyor ki, dc benim değil. biz açık bir ortam oluşturmaya çalıştık. insanların algıları yetmiyor anlamaya. (düzenlendi)\")"
      ],
      "metadata": {
        "colab": {
          "base_uri": "https://localhost:8080/"
        },
        "id": "OG1jPXydke7y",
        "outputId": "3858d1c4-4bd2-4d05-816e-0e894ff014fe"
      },
      "execution_count": null,
      "outputs": [
        {
          "output_type": "stream",
          "name": "stdout",
          "text": [
            "Küfür yok:  1.2153032e-05\n"
          ]
        }
      ]
    },
    {
      "cell_type": "code",
      "source": [
        ""
      ],
      "metadata": {
        "id": "nXVjlxwVktdr"
      },
      "execution_count": null,
      "outputs": []
    }
  ]
}